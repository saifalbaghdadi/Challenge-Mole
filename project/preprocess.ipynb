{
 "cells": [
  {
   "cell_type": "code",
   "execution_count": 1,
   "metadata": {
    "executionInfo": {
     "elapsed": 1838,
     "status": "ok",
     "timestamp": 1621490869470,
     "user": {
      "displayName": "Va Fa Napoli",
      "photoUrl": "",
      "userId": "17637464824648077645"
     },
     "user_tz": -330
    },
    "id": "RWfcJdOno-bW"
   },
   "outputs": [],
   "source": [
    "import pandas as pd\n",
    "import numpy as np\n",
    "import random\n",
    "import matplotlib.pyplot as plt\n",
    "import seaborn as sns\n",
    "import tensorflow as tf\n",
    "\n",
    "from tensorflow.keras.models import Sequential\n",
    "from tensorflow.keras.layers import Conv2D, Flatten, Dense, MaxPool2D"
   ]
  },
  {
   "cell_type": "code",
   "execution_count": 4,
   "metadata": {
    "executionInfo": {
     "elapsed": 1327,
     "status": "ok",
     "timestamp": 1621490896437,
     "user": {
      "displayName": "Va Fa Napoli",
      "photoUrl": "",
      "userId": "17637464824648077645"
     },
     "user_tz": -330
    },
    "id": "cu1oXQ0lpwKp"
   },
   "outputs": [],
   "source": [
    "# Dataset path\n",
    "path='./data/hmnist_28_28_RGB.csv'"
   ]
  },
  {
   "cell_type": "code",
   "execution_count": 5,
   "metadata": {
    "executionInfo": {
     "elapsed": 7059,
     "status": "ok",
     "timestamp": 1621490902649,
     "user": {
      "displayName": "Va Fa Napoli",
      "photoUrl": "",
      "userId": "17637464824648077645"
     },
     "user_tz": -330
    },
    "id": "wtXf-XTIrGX7"
   },
   "outputs": [],
   "source": [
    "df = pd.read_csv(path)"
   ]
  },
  {
   "cell_type": "code",
   "execution_count": 6,
   "metadata": {
    "colab": {
     "base_uri": "https://localhost:8080/",
     "height": 244
    },
    "executionInfo": {
     "elapsed": 6377,
     "status": "ok",
     "timestamp": 1621490902663,
     "user": {
      "displayName": "Va Fa Napoli",
      "photoUrl": "",
      "userId": "17637464824648077645"
     },
     "user_tz": -330
    },
    "id": "OG1UlYVarJ-w",
    "outputId": "535fc823-570e-42ab-b9d1-7352512d1a21"
   },
   "outputs": [
    {
     "data": {
      "text/html": [
       "<div>\n",
       "<style scoped>\n",
       "    .dataframe tbody tr th:only-of-type {\n",
       "        vertical-align: middle;\n",
       "    }\n",
       "\n",
       "    .dataframe tbody tr th {\n",
       "        vertical-align: top;\n",
       "    }\n",
       "\n",
       "    .dataframe thead th {\n",
       "        text-align: right;\n",
       "    }\n",
       "</style>\n",
       "<table border=\"1\" class=\"dataframe\">\n",
       "  <thead>\n",
       "    <tr style=\"text-align: right;\">\n",
       "      <th></th>\n",
       "      <th>pixel0000</th>\n",
       "      <th>pixel0001</th>\n",
       "      <th>pixel0002</th>\n",
       "      <th>pixel0003</th>\n",
       "      <th>pixel0004</th>\n",
       "      <th>pixel0005</th>\n",
       "      <th>pixel0006</th>\n",
       "      <th>pixel0007</th>\n",
       "      <th>pixel0008</th>\n",
       "      <th>pixel0009</th>\n",
       "      <th>...</th>\n",
       "      <th>pixel2343</th>\n",
       "      <th>pixel2344</th>\n",
       "      <th>pixel2345</th>\n",
       "      <th>pixel2346</th>\n",
       "      <th>pixel2347</th>\n",
       "      <th>pixel2348</th>\n",
       "      <th>pixel2349</th>\n",
       "      <th>pixel2350</th>\n",
       "      <th>pixel2351</th>\n",
       "      <th>label</th>\n",
       "    </tr>\n",
       "  </thead>\n",
       "  <tbody>\n",
       "    <tr>\n",
       "      <th>10010</th>\n",
       "      <td>183</td>\n",
       "      <td>165</td>\n",
       "      <td>181</td>\n",
       "      <td>182</td>\n",
       "      <td>165</td>\n",
       "      <td>180</td>\n",
       "      <td>184</td>\n",
       "      <td>166</td>\n",
       "      <td>182</td>\n",
       "      <td>188</td>\n",
       "      <td>...</td>\n",
       "      <td>208</td>\n",
       "      <td>185</td>\n",
       "      <td>187</td>\n",
       "      <td>208</td>\n",
       "      <td>186</td>\n",
       "      <td>186</td>\n",
       "      <td>206</td>\n",
       "      <td>187</td>\n",
       "      <td>189</td>\n",
       "      <td>0</td>\n",
       "    </tr>\n",
       "    <tr>\n",
       "      <th>10011</th>\n",
       "      <td>2</td>\n",
       "      <td>3</td>\n",
       "      <td>1</td>\n",
       "      <td>38</td>\n",
       "      <td>33</td>\n",
       "      <td>32</td>\n",
       "      <td>121</td>\n",
       "      <td>104</td>\n",
       "      <td>103</td>\n",
       "      <td>132</td>\n",
       "      <td>...</td>\n",
       "      <td>96</td>\n",
       "      <td>79</td>\n",
       "      <td>76</td>\n",
       "      <td>24</td>\n",
       "      <td>23</td>\n",
       "      <td>21</td>\n",
       "      <td>3</td>\n",
       "      <td>4</td>\n",
       "      <td>1</td>\n",
       "      <td>0</td>\n",
       "    </tr>\n",
       "    <tr>\n",
       "      <th>10012</th>\n",
       "      <td>132</td>\n",
       "      <td>118</td>\n",
       "      <td>118</td>\n",
       "      <td>167</td>\n",
       "      <td>149</td>\n",
       "      <td>149</td>\n",
       "      <td>175</td>\n",
       "      <td>156</td>\n",
       "      <td>160</td>\n",
       "      <td>184</td>\n",
       "      <td>...</td>\n",
       "      <td>204</td>\n",
       "      <td>181</td>\n",
       "      <td>178</td>\n",
       "      <td>181</td>\n",
       "      <td>159</td>\n",
       "      <td>153</td>\n",
       "      <td>172</td>\n",
       "      <td>151</td>\n",
       "      <td>145</td>\n",
       "      <td>0</td>\n",
       "    </tr>\n",
       "    <tr>\n",
       "      <th>10013</th>\n",
       "      <td>160</td>\n",
       "      <td>124</td>\n",
       "      <td>146</td>\n",
       "      <td>164</td>\n",
       "      <td>131</td>\n",
       "      <td>152</td>\n",
       "      <td>167</td>\n",
       "      <td>127</td>\n",
       "      <td>146</td>\n",
       "      <td>169</td>\n",
       "      <td>...</td>\n",
       "      <td>185</td>\n",
       "      <td>162</td>\n",
       "      <td>167</td>\n",
       "      <td>184</td>\n",
       "      <td>157</td>\n",
       "      <td>166</td>\n",
       "      <td>185</td>\n",
       "      <td>162</td>\n",
       "      <td>172</td>\n",
       "      <td>0</td>\n",
       "    </tr>\n",
       "    <tr>\n",
       "      <th>10014</th>\n",
       "      <td>175</td>\n",
       "      <td>142</td>\n",
       "      <td>121</td>\n",
       "      <td>181</td>\n",
       "      <td>150</td>\n",
       "      <td>134</td>\n",
       "      <td>181</td>\n",
       "      <td>150</td>\n",
       "      <td>133</td>\n",
       "      <td>178</td>\n",
       "      <td>...</td>\n",
       "      <td>159</td>\n",
       "      <td>79</td>\n",
       "      <td>82</td>\n",
       "      <td>174</td>\n",
       "      <td>137</td>\n",
       "      <td>125</td>\n",
       "      <td>175</td>\n",
       "      <td>139</td>\n",
       "      <td>126</td>\n",
       "      <td>6</td>\n",
       "    </tr>\n",
       "  </tbody>\n",
       "</table>\n",
       "<p>5 rows × 2353 columns</p>\n",
       "</div>"
      ],
      "text/plain": [
       "       pixel0000  pixel0001  pixel0002  pixel0003  pixel0004  pixel0005  \\\n",
       "10010        183        165        181        182        165        180   \n",
       "10011          2          3          1         38         33         32   \n",
       "10012        132        118        118        167        149        149   \n",
       "10013        160        124        146        164        131        152   \n",
       "10014        175        142        121        181        150        134   \n",
       "\n",
       "       pixel0006  pixel0007  pixel0008  pixel0009  ...  pixel2343  pixel2344  \\\n",
       "10010        184        166        182        188  ...        208        185   \n",
       "10011        121        104        103        132  ...         96         79   \n",
       "10012        175        156        160        184  ...        204        181   \n",
       "10013        167        127        146        169  ...        185        162   \n",
       "10014        181        150        133        178  ...        159         79   \n",
       "\n",
       "       pixel2345  pixel2346  pixel2347  pixel2348  pixel2349  pixel2350  \\\n",
       "10010        187        208        186        186        206        187   \n",
       "10011         76         24         23         21          3          4   \n",
       "10012        178        181        159        153        172        151   \n",
       "10013        167        184        157        166        185        162   \n",
       "10014         82        174        137        125        175        139   \n",
       "\n",
       "       pixel2351  label  \n",
       "10010        189      0  \n",
       "10011          1      0  \n",
       "10012        145      0  \n",
       "10013        172      0  \n",
       "10014        126      6  \n",
       "\n",
       "[5 rows x 2353 columns]"
      ]
     },
     "execution_count": 6,
     "metadata": {},
     "output_type": "execute_result"
    }
   ],
   "source": [
    "df.tail()"
   ]
  },
  {
   "cell_type": "code",
   "execution_count": 5,
   "metadata": {},
   "outputs": [
    {
     "data": {
      "text/plain": [
       "4    6705\n",
       "6    1113\n",
       "2    1099\n",
       "1     514\n",
       "0     327\n",
       "5     142\n",
       "3     115\n",
       "Name: label, dtype: int64"
      ]
     },
     "execution_count": 5,
     "metadata": {},
     "output_type": "execute_result"
    }
   ],
   "source": [
    "df.label.value_counts()"
   ]
  },
  {
   "cell_type": "code",
   "execution_count": 6,
   "metadata": {
    "executionInfo": {
     "elapsed": 1632,
     "status": "ok",
     "timestamp": 1621490906727,
     "user": {
      "displayName": "Va Fa Napoli",
      "photoUrl": "",
      "userId": "17637464824648077645"
     },
     "user_tz": -330
    },
    "id": "3u4kkVqlrOV2"
   },
   "outputs": [],
   "source": [
    "fractions=np.array([0.8,0.2])\n",
    "df=df.sample(frac=1)\n",
    "train_set, test_set = np.array_split(\n",
    "    df, (fractions[:-1].cumsum() * len(df)).astype(int))"
   ]
  },
  {
   "cell_type": "code",
   "execution_count": 7,
   "metadata": {
    "colab": {
     "base_uri": "https://localhost:8080/"
    },
    "executionInfo": {
     "elapsed": 1479,
     "status": "ok",
     "timestamp": 1621490907142,
     "user": {
      "displayName": "Va Fa Napoli",
      "photoUrl": "",
      "userId": "17637464824648077645"
     },
     "user_tz": -330
    },
    "id": "sb0MbLTF1cGr",
    "outputId": "1c18e860-4bf2-4aae-d8bd-7a7b0b0fe4a6"
   },
   "outputs": [
    {
     "name": "stdout",
     "output_type": "stream",
     "text": [
      "8012\n"
     ]
    }
   ],
   "source": [
    "print(len(train_set))"
   ]
  },
  {
   "cell_type": "code",
   "execution_count": 8,
   "metadata": {
    "colab": {
     "base_uri": "https://localhost:8080/"
    },
    "executionInfo": {
     "elapsed": 1597,
     "status": "ok",
     "timestamp": 1621490907748,
     "user": {
      "displayName": "Va Fa Napoli",
      "photoUrl": "",
      "userId": "17637464824648077645"
     },
     "user_tz": -330
    },
    "id": "6DhB2s7X1qfR",
    "outputId": "3b971adc-8194-4efe-e7a6-02b17487d52d"
   },
   "outputs": [
    {
     "name": "stdout",
     "output_type": "stream",
     "text": [
      "2003\n"
     ]
    }
   ],
   "source": [
    "print(len(test_set))"
   ]
  },
  {
   "cell_type": "code",
   "execution_count": 9,
   "metadata": {
    "colab": {
     "base_uri": "https://localhost:8080/"
    },
    "executionInfo": {
     "elapsed": 1478,
     "status": "ok",
     "timestamp": 1621490910517,
     "user": {
      "displayName": "Va Fa Napoli",
      "photoUrl": "",
      "userId": "17637464824648077645"
     },
     "user_tz": -330
    },
    "id": "rpb3YhzI1sq6",
    "outputId": "80762e95-e27c-4c02-8f52-bc68380cb807"
   },
   "outputs": [
    {
     "data": {
      "text/plain": [
       "array([4, 0, 6, 1, 2, 5, 3], dtype=int64)"
      ]
     },
     "execution_count": 9,
     "metadata": {},
     "output_type": "execute_result"
    }
   ],
   "source": [
    "df.label.unique()"
   ]
  },
  {
   "cell_type": "code",
   "execution_count": 10,
   "metadata": {
    "executionInfo": {
     "elapsed": 820,
     "status": "ok",
     "timestamp": 1621490912060,
     "user": {
      "displayName": "Va Fa Napoli",
      "photoUrl": "",
      "userId": "17637464824648077645"
     },
     "user_tz": -330
    },
    "id": "SBw897AG1vzd"
   },
   "outputs": [],
   "source": [
    "classes={0:('Actinic keratoses (Cancer)'),\n",
    "         1:('Basal cell carcinoma (Cancer)'),\n",
    "         2:('Benign keratosis (Non-Cancerous)'),\n",
    "         3:('Dermatofibroma (Non-Cancerous)'),\n",
    "         4:('Melanocytic nevi (Non-Cancerous)'),\n",
    "         5:('Vascular lesions (Can lead to cancer)'),\n",
    "         6:('Melanoma (Cancer)')}\n"
   ]
  },
  {
   "cell_type": "code",
   "execution_count": 11,
   "metadata": {
    "executionInfo": {
     "elapsed": 996,
     "status": "ok",
     "timestamp": 1621490915214,
     "user": {
      "displayName": "Va Fa Napoli",
      "photoUrl": "",
      "userId": "17637464824648077645"
     },
     "user_tz": -330
    },
    "id": "wbxizrkJ15Cj"
   },
   "outputs": [],
   "source": [
    "y_train = train_set['label']\n",
    "x_train = train_set.drop(columns=['label'])\n",
    "y_test = test_set['label']\n",
    "x_test = test_set.drop(columns=['label'])\n"
   ]
  },
  {
   "cell_type": "code",
   "execution_count": 12,
   "metadata": {
    "colab": {
     "base_uri": "https://localhost:8080/"
    },
    "executionInfo": {
     "elapsed": 2636,
     "status": "ok",
     "timestamp": 1621490921765,
     "user": {
      "displayName": "Va Fa Napoli",
      "photoUrl": "",
      "userId": "17637464824648077645"
     },
     "user_tz": -330
    },
    "id": "XxH28yNQ2d89",
    "outputId": "5c5d953b-fb0f-405d-a0a1-2a933fa266b2"
   },
   "outputs": [],
   "source": [
    "from imblearn.over_sampling import RandomOverSampler \n",
    "\n",
    "oversample = RandomOverSampler()\n",
    "x_train,y_train  = oversample.fit_resample(x_train,y_train)"
   ]
  },
  {
   "cell_type": "code",
   "execution_count": 13,
   "metadata": {},
   "outputs": [
    {
     "name": "stderr",
     "output_type": "stream",
     "text": [
      "c:\\Users\\saifa\\AppData\\Local\\Programs\\Python\\Python39\\lib\\site-packages\\seaborn\\_decorators.py:36: FutureWarning: Pass the following variable as a keyword arg: x. From version 0.12, the only valid positional argument will be `data`, and passing other arguments without an explicit keyword will result in an error or misinterpretation.\n",
      "  warnings.warn(\n"
     ]
    },
    {
     "data": {
      "text/plain": [
       "<AxesSubplot:xlabel='label', ylabel='count'>"
      ]
     },
     "execution_count": 13,
     "metadata": {},
     "output_type": "execute_result"
    },
    {
     "data": {
      "image/png": "[encoded data removed]",
      "text/plain": [
       "<Figure size 432x288 with 1 Axes>"
      ]
     },
     "metadata": {
      "needs_background": "light"
     },
     "output_type": "display_data"
    }
   ],
   "source": [
    "sns.countplot(train_set['label'])"
   ]
  },
  {
   "cell_type": "code",
   "execution_count": 14,
   "metadata": {
    "colab": {
     "base_uri": "https://localhost:8080/"
    },
    "executionInfo": {
     "elapsed": 1759,
     "status": "ok",
     "timestamp": 1621491086015,
     "user": {
      "displayName": "Va Fa Napoli",
      "photoUrl": "",
      "userId": "17637464824648077645"
     },
     "user_tz": -330
    },
    "id": "5LosZ-iYfK_J",
    "outputId": "eb3795bb-adfe-4d24-a086-f3eda9e31ce9"
   },
   "outputs": [
    {
     "name": "stdout",
     "output_type": "stream",
     "text": [
      "Number of  Actinic keratoses (Cancer) images:  5364\n",
      "Number of  Basal cell carcinoma (Cancer) images:  5364\n",
      "Number of  Benign keratosis (Non-Cancerous) images:  5364\n",
      "Number of  Dermatofibroma (Non-Cancerous) images:  5364\n",
      "Number of  Melanocytic nevi (Non-Cancerous) images:  5364\n",
      "Number of  Vascular lesions (Can lead to cancer) images:  5364\n",
      "Number of  Melanoma (Cancer) images:  5364\n"
     ]
    }
   ],
   "source": [
    "for k in range(7):\n",
    "  print(\"Number of \", classes[k],\"images: \", len([i for i in y_train if i==k]))"
   ]
  },
  {
   "cell_type": "code",
   "execution_count": 15,
   "metadata": {
    "colab": {
     "base_uri": "https://localhost:8080/",
     "height": 809
    },
    "executionInfo": {
     "elapsed": 1924,
     "status": "ok",
     "timestamp": 1621491100464,
     "user": {
      "displayName": "Va Fa Napoli",
      "photoUrl": "",
      "userId": "17637464824648077645"
     },
     "user_tz": -330
    },
    "id": "eeV1BAjQ4LCo",
    "outputId": "456c8919-4e85-4a8c-98d8-c02fb78e2453"
   },
   "outputs": [
    {
     "data": {
      "image/png": "[encoded data removed]",
      "text/plain": [
       "<Figure size 432x288 with 1 Axes>"
      ]
     },
     "metadata": {
      "needs_background": "light"
     },
     "output_type": "display_data"
    },
    {
     "data": {
      "image/png": "[encoded data removed]",
      "text/plain": [
       "<Figure size 432x288 with 1 Axes>"
      ]
     },
     "metadata": {
      "needs_background": "light"
     },
     "output_type": "display_data"
    },
    {
     "data": {
      "image/png": "[encoded data removed]",
      "text/plain": [
       "<Figure size 432x288 with 1 Axes>"
      ]
     },
     "metadata": {
      "needs_background": "light"
     },
     "output_type": "display_data"
    }
   ],
   "source": [
    "x_train = np.array(x_train, dtype=np.uint8).reshape(-1, 28, 28, 3)\n",
    "for _ in range(3):\n",
    "  num = random.randint(0, 8000)\n",
    "  plt.imshow(x_train[num].reshape(28, 28, 3))\n",
    "  plt.title(classes[y_train[num]])\n",
    "  plt.show()\n"
   ]
  },
  {
   "cell_type": "code",
   "execution_count": 16,
   "metadata": {
    "colab": {
     "base_uri": "https://localhost:8080/"
    },
    "executionInfo": {
     "elapsed": 1679,
     "status": "ok",
     "timestamp": 1621491109880,
     "user": {
      "displayName": "Va Fa Napoli",
      "photoUrl": "",
      "userId": "17637464824648077645"
     },
     "user_tz": -330
    },
    "id": "WuDtJD0i5ZOg",
    "outputId": "1a0b55e9-5286-415a-a8f1-7a8c8c3bd79a"
   },
   "outputs": [
    {
     "name": "stdout",
     "output_type": "stream",
     "text": [
      "Model: \"sequential\"\n",
      "_________________________________________________________________\n",
      " Layer (type)                Output Shape              Param #   \n",
      "=================================================================\n",
      " conv2d (Conv2D)             (None, 28, 28, 16)        448       \n",
      "                                                                 \n",
      " max_pooling2d (MaxPooling2D  (None, 14, 14, 16)       0         \n",
      " )                                                               \n",
      "                                                                 \n",
      " batch_normalization (BatchN  (None, 14, 14, 16)       64        \n",
      " ormalization)                                                   \n",
      "                                                                 \n",
      " conv2d_1 (Conv2D)           (None, 12, 12, 32)        4640      \n",
      "                                                                 \n",
      " conv2d_2 (Conv2D)           (None, 10, 10, 64)        18496     \n",
      "                                                                 \n",
      " max_pooling2d_1 (MaxPooling  (None, 5, 5, 64)         0         \n",
      " 2D)                                                             \n",
      "                                                                 \n",
      " batch_normalization_1 (Batc  (None, 5, 5, 64)         256       \n",
      " hNormalization)                                                 \n",
      "                                                                 \n",
      " conv2d_3 (Conv2D)           (None, 3, 3, 128)         73856     \n",
      "                                                                 \n",
      " conv2d_4 (Conv2D)           (None, 1, 1, 256)         295168    \n",
      "                                                                 \n",
      " flatten (Flatten)           (None, 256)               0         \n",
      "                                                                 \n",
      " dropout (Dropout)           (None, 256)               0         \n",
      "                                                                 \n",
      " dense (Dense)               (None, 256)               65792     \n",
      "                                                                 \n",
      " batch_normalization_2 (Batc  (None, 256)              1024      \n",
      " hNormalization)                                                 \n",
      "                                                                 \n",
      " dropout_1 (Dropout)         (None, 256)               0         \n",
      "                                                                 \n",
      " dense_1 (Dense)             (None, 128)               32896     \n",
      "                                                                 \n",
      " batch_normalization_3 (Batc  (None, 128)              512       \n",
      " hNormalization)                                                 \n",
      "                                                                 \n",
      " dense_2 (Dense)             (None, 64)                8256      \n",
      "                                                                 \n",
      " batch_normalization_4 (Batc  (None, 64)               256       \n",
      " hNormalization)                                                 \n",
      "                                                                 \n",
      " dropout_2 (Dropout)         (None, 64)                0         \n",
      "                                                                 \n",
      " dense_3 (Dense)             (None, 32)                2080      \n",
      "                                                                 \n",
      " batch_normalization_5 (Batc  (None, 32)               128       \n",
      " hNormalization)                                                 \n",
      "                                                                 \n",
      " dense_4 (Dense)             (None, 7)                 231       \n",
      "                                                                 \n",
      "=================================================================\n",
      "Total params: 504,103\n",
      "Trainable params: 502,983\n",
      "Non-trainable params: 1,120\n",
      "_________________________________________________________________\n"
     ]
    }
   ],
   "source": [
    "model = Sequential()\n",
    "model.add(Conv2D(16, kernel_size=(3,3), input_shape=(28, 28, 3), activation='relu', padding='same'))\n",
    "model.add(MaxPool2D(pool_size=(2,2)))\n",
    "model.add(tf.keras.layers.BatchNormalization())\n",
    "model.add(Conv2D(32, kernel_size=(3,3), activation='relu'))\n",
    "model.add(Conv2D(64, kernel_size=(3,3), activation='relu'))\n",
    "model.add(MaxPool2D(pool_size=(2,2)))\n",
    "model.add(tf.keras.layers.BatchNormalization())\n",
    "model.add(Conv2D(128, kernel_size=(3,3), activation='relu'))\n",
    "model.add(Conv2D(256, kernel_size=(3,3), activation='relu'))\n",
    "model.add(Flatten())\n",
    "model.add(tf.keras.layers.Dropout(0.2))\n",
    "model.add(Dense(256,activation='relu'))\n",
    "model.add(tf.keras.layers.BatchNormalization())\n",
    "model.add(tf.keras.layers.Dropout(0.2))\n",
    "model.add(Dense(128,activation='relu'))\n",
    "model.add(tf.keras.layers.BatchNormalization())\n",
    "model.add(Dense(64,activation='relu'))\n",
    "model.add(tf.keras.layers.BatchNormalization())\n",
    "model.add(tf.keras.layers.Dropout(0.2))\n",
    "model.add(Dense(32,activation='relu'))\n",
    "model.add(tf.keras.layers.BatchNormalization())\n",
    "model.add(Dense(7,activation='softmax'))\n",
    "\n",
    "model.summary()"
   ]
  },
  {
   "cell_type": "code",
   "execution_count": 17,
   "metadata": {
    "id": "wdJ7q76J6mMW"
   },
   "outputs": [],
   "source": [
    "#Checkpoint\n",
    "callback = tf.keras.callbacks.ModelCheckpoint('./model/Checkpoints/model{epoch:3d}.hdf5', monitor='val_accuracy', mode='auto', verbose=0, save_best_only=True)\n"
   ]
  },
  {
   "cell_type": "code",
   "execution_count": 18,
   "metadata": {
    "colab": {
     "base_uri": "https://localhost:8080/"
    },
    "executionInfo": {
     "elapsed": 2581008,
     "status": "ok",
     "timestamp": 1621328487715,
     "user": {
      "displayName": "Va Fa Napoli",
      "photoUrl": "",
      "userId": "17637464824648077645"
     },
     "user_tz": -330
    },
    "id": "P9JdY1Rz73tW",
    "outputId": "47cea216-b573-406a-a778-1f8db6a000e7"
   },
   "outputs": [
    {
     "name": "stdout",
     "output_type": "stream",
     "text": [
      "Epoch 1/50\n",
      "235/235 [==============================] - 33s 131ms/step - loss: 1.1814 - accuracy: 0.5766 - val_loss: 3.9872 - val_accuracy: 0.0138\n",
      "Epoch 2/50\n",
      "235/235 [==============================] - 29s 125ms/step - loss: 0.3884 - accuracy: 0.8722 - val_loss: 1.7367 - val_accuracy: 0.4051\n",
      "Epoch 3/50\n",
      "235/235 [==============================] - 29s 125ms/step - loss: 0.2411 - accuracy: 0.9179 - val_loss: 0.9324 - val_accuracy: 0.5842\n",
      "Epoch 4/50\n",
      "235/235 [==============================] - 29s 125ms/step - loss: 0.1898 - accuracy: 0.9344 - val_loss: 0.6054 - val_accuracy: 0.7402\n",
      "Epoch 5/50\n",
      "235/235 [==============================] - 29s 126ms/step - loss: 0.1536 - accuracy: 0.9470 - val_loss: 1.2806 - val_accuracy: 0.4639\n",
      "Epoch 6/50\n",
      "235/235 [==============================] - 30s 128ms/step - loss: 0.1228 - accuracy: 0.9571 - val_loss: 0.8572 - val_accuracy: 0.6160\n",
      "Epoch 7/50\n",
      "235/235 [==============================] - 30s 126ms/step - loss: 0.1079 - accuracy: 0.9622 - val_loss: 0.5706 - val_accuracy: 0.7313\n",
      "Epoch 8/50\n",
      "235/235 [==============================] - 30s 129ms/step - loss: 0.0994 - accuracy: 0.9650 - val_loss: 0.4810 - val_accuracy: 0.8051\n",
      "Epoch 9/50\n",
      "235/235 [==============================] - 30s 129ms/step - loss: 0.0851 - accuracy: 0.9692 - val_loss: 0.4151 - val_accuracy: 0.8248\n",
      "Epoch 10/50\n",
      "235/235 [==============================] - 128s 545ms/step - loss: 0.0836 - accuracy: 0.9705 - val_loss: 1.1984 - val_accuracy: 0.5743\n",
      "Epoch 11/50\n",
      "235/235 [==============================] - 29s 125ms/step - loss: 0.0749 - accuracy: 0.9732 - val_loss: 0.4231 - val_accuracy: 0.8116\n",
      "Epoch 12/50\n",
      "235/235 [==============================] - 30s 127ms/step - loss: 0.0566 - accuracy: 0.9806 - val_loss: 0.4124 - val_accuracy: 0.7722\n",
      "Epoch 13/50\n",
      "235/235 [==============================] - 29s 122ms/step - loss: 0.0541 - accuracy: 0.9809 - val_loss: 0.4126 - val_accuracy: 0.8353\n",
      "Epoch 14/50\n",
      "235/235 [==============================] - 38s 163ms/step - loss: 0.0556 - accuracy: 0.9813 - val_loss: 0.6145 - val_accuracy: 0.7691\n",
      "Epoch 15/50\n",
      "235/235 [==============================] - 43s 182ms/step - loss: 0.0452 - accuracy: 0.9844 - val_loss: 0.3449 - val_accuracy: 0.8860\n",
      "Epoch 16/50\n",
      "235/235 [==============================] - 29s 123ms/step - loss: 0.0408 - accuracy: 0.9863 - val_loss: 0.1796 - val_accuracy: 0.9358\n",
      "Epoch 17/50\n",
      "235/235 [==============================] - 29s 122ms/step - loss: 0.0459 - accuracy: 0.9854 - val_loss: 0.3631 - val_accuracy: 0.8795\n",
      "Epoch 18/50\n",
      "235/235 [==============================] - 32s 137ms/step - loss: 0.0413 - accuracy: 0.9864 - val_loss: 0.1105 - val_accuracy: 0.9632\n",
      "Epoch 19/50\n",
      "235/235 [==============================] - 31s 131ms/step - loss: 0.0310 - accuracy: 0.9896 - val_loss: 0.1534 - val_accuracy: 0.9406\n",
      "Epoch 20/50\n",
      "235/235 [==============================] - 31s 131ms/step - loss: 0.0301 - accuracy: 0.9906 - val_loss: 0.1972 - val_accuracy: 0.9285\n",
      "Epoch 21/50\n",
      "235/235 [==============================] - 31s 132ms/step - loss: 0.0451 - accuracy: 0.9851 - val_loss: 0.4365 - val_accuracy: 0.8415\n",
      "Epoch 22/50\n",
      "235/235 [==============================] - 31s 133ms/step - loss: 0.0210 - accuracy: 0.9934 - val_loss: 0.0778 - val_accuracy: 0.9791\n",
      "Epoch 23/50\n",
      "235/235 [==============================] - 35s 149ms/step - loss: 0.0226 - accuracy: 0.9929 - val_loss: 0.3020 - val_accuracy: 0.9201\n",
      "Epoch 24/50\n",
      "235/235 [==============================] - 34s 144ms/step - loss: 0.0278 - accuracy: 0.9904 - val_loss: 0.5649 - val_accuracy: 0.8212\n",
      "Epoch 25/50\n",
      "235/235 [==============================] - 50s 212ms/step - loss: 0.0223 - accuracy: 0.9929 - val_loss: 0.1254 - val_accuracy: 0.9531\n",
      "Epoch 26/50\n",
      "235/235 [==============================] - 30s 126ms/step - loss: 0.0281 - accuracy: 0.9911 - val_loss: 0.5413 - val_accuracy: 0.8477\n",
      "Epoch 27/50\n",
      "235/235 [==============================] - 29s 125ms/step - loss: 0.0188 - accuracy: 0.9932 - val_loss: 0.2999 - val_accuracy: 0.8985\n",
      "Epoch 28/50\n",
      "235/235 [==============================] - 30s 128ms/step - loss: 0.0299 - accuracy: 0.9904 - val_loss: 0.2435 - val_accuracy: 0.9173\n",
      "Epoch 29/50\n",
      "235/235 [==============================] - 31s 131ms/step - loss: 0.0218 - accuracy: 0.9932 - val_loss: 0.8702 - val_accuracy: 0.7609\n",
      "Epoch 30/50\n",
      "235/235 [==============================] - 34s 145ms/step - loss: 0.0234 - accuracy: 0.9923 - val_loss: 0.0678 - val_accuracy: 0.9719\n",
      "Epoch 31/50\n",
      "235/235 [==============================] - 50s 214ms/step - loss: 0.0171 - accuracy: 0.9945 - val_loss: 0.1442 - val_accuracy: 0.9550\n",
      "Epoch 32/50\n",
      "235/235 [==============================] - 31s 132ms/step - loss: 0.0264 - accuracy: 0.9918 - val_loss: 0.1201 - val_accuracy: 0.9614\n",
      "Epoch 33/50\n",
      "235/235 [==============================] - 31s 134ms/step - loss: 0.0166 - accuracy: 0.9945 - val_loss: 0.4454 - val_accuracy: 0.8784\n",
      "Epoch 34/50\n",
      "235/235 [==============================] - 30s 126ms/step - loss: 0.0152 - accuracy: 0.9951 - val_loss: 0.1637 - val_accuracy: 0.9525\n",
      "Epoch 35/50\n",
      "235/235 [==============================] - 30s 128ms/step - loss: 0.0163 - accuracy: 0.9947 - val_loss: 0.0081 - val_accuracy: 0.9992\n",
      "Epoch 36/50\n",
      "235/235 [==============================] - 31s 132ms/step - loss: 0.0126 - accuracy: 0.9963 - val_loss: 0.0760 - val_accuracy: 0.9666\n",
      "Epoch 37/50\n",
      "235/235 [==============================] - 31s 132ms/step - loss: 0.0174 - accuracy: 0.9943 - val_loss: 0.3859 - val_accuracy: 0.8808\n",
      "Epoch 38/50\n",
      "235/235 [==============================] - 31s 131ms/step - loss: 0.0214 - accuracy: 0.9928 - val_loss: 0.0820 - val_accuracy: 0.9720\n",
      "Epoch 39/50\n",
      "235/235 [==============================] - 31s 134ms/step - loss: 0.0167 - accuracy: 0.9951 - val_loss: 0.0994 - val_accuracy: 0.9678\n",
      "Epoch 40/50\n",
      "235/235 [==============================] - 31s 132ms/step - loss: 0.0156 - accuracy: 0.9954 - val_loss: 0.0496 - val_accuracy: 0.9832\n",
      "Epoch 41/50\n",
      "235/235 [==============================] - 31s 132ms/step - loss: 0.0114 - accuracy: 0.9964 - val_loss: 0.2629 - val_accuracy: 0.9216\n",
      "Epoch 42/50\n",
      "235/235 [==============================] - 36s 154ms/step - loss: 0.0129 - accuracy: 0.9957 - val_loss: 0.1340 - val_accuracy: 0.9648\n",
      "Epoch 43/50\n",
      "235/235 [==============================] - 46s 197ms/step - loss: 0.0139 - accuracy: 0.9960 - val_loss: 0.2335 - val_accuracy: 0.9318\n",
      "Epoch 44/50\n",
      "235/235 [==============================] - 29s 124ms/step - loss: 0.0097 - accuracy: 0.9971 - val_loss: 0.1212 - val_accuracy: 0.9546\n",
      "Epoch 45/50\n",
      "235/235 [==============================] - 30s 130ms/step - loss: 0.0197 - accuracy: 0.9945 - val_loss: 0.3175 - val_accuracy: 0.8949\n",
      "Epoch 46/50\n",
      "235/235 [==============================] - 31s 131ms/step - loss: 0.0148 - accuracy: 0.9954 - val_loss: 0.1480 - val_accuracy: 0.9599\n",
      "Epoch 47/50\n",
      "235/235 [==============================] - 30s 130ms/step - loss: 0.0138 - accuracy: 0.9960 - val_loss: 0.3103 - val_accuracy: 0.9142\n",
      "Epoch 48/50\n",
      "235/235 [==============================] - 37s 158ms/step - loss: 0.0120 - accuracy: 0.9959 - val_loss: 0.1879 - val_accuracy: 0.9288\n",
      "Epoch 49/50\n",
      "235/235 [==============================] - 33s 141ms/step - loss: 0.0113 - accuracy: 0.9966 - val_loss: 0.1926 - val_accuracy: 0.9406\n",
      "Epoch 50/50\n",
      "235/235 [==============================] - 32s 134ms/step - loss: 0.0067 - accuracy: 0.9980 - val_loss: 0.1124 - val_accuracy: 0.9586\n"
     ]
    }
   ],
   "source": [
    "Optimizer = tf.keras.optimizers.Adam(learning_rate=0.001)\n",
    "model.compile(loss='sparse_categorical_crossentropy', optimizer=Optimizer, metrics=['accuracy'])\n",
    "\n",
    "history = model.fit(x_train,\n",
    "                    y_train,\n",
    "                    validation_split=0.2,\n",
    "                    batch_size=128,\n",
    "                    epochs=50,\n",
    "                    shuffle=True,\n",
    "                    callbacks=[callback])"
   ]
  },
  {
   "cell_type": "code",
   "execution_count": 19,
   "metadata": {},
   "outputs": [],
   "source": [
    "# model.save_weights('./model/model.h5')    # save model"
   ]
  },
  {
   "cell_type": "code",
   "execution_count": 20,
   "metadata": {
    "colab": {
     "base_uri": "https://localhost:8080/",
     "height": 295
    },
    "executionInfo": {
     "elapsed": 1144,
     "status": "ok",
     "timestamp": 1621329755359,
     "user": {
      "displayName": "Va Fa Napoli",
      "photoUrl": "",
      "userId": "17637464824648077645"
     },
     "user_tz": -330
    },
    "id": "EG1VFjp-H2oh",
    "outputId": "19033efb-45f2-4e70-c0b1-2fc06020a549"
   },
   "outputs": [
    {
     "data": {
      "image/png": "[encoded data removed]",
      "text/plain": [
       "<Figure size 432x288 with 1 Axes>"
      ]
     },
     "metadata": {
      "needs_background": "light"
     },
     "output_type": "display_data"
    }
   ],
   "source": [
    "plt.plot(history.history['accuracy'])\n",
    "plt.plot(history.history['val_accuracy'])\n",
    "plt.title('Model Accuracy')\n",
    "plt.xlabel('Epoch')\n",
    "plt.ylabel('Accuracy')\n",
    "plt.legend(['train', 'val'], loc = 'upper left')\n",
    "plt.show()"
   ]
  },
  {
   "cell_type": "code",
   "execution_count": 21,
   "metadata": {
    "colab": {
     "base_uri": "https://localhost:8080/",
     "height": 295
    },
    "executionInfo": {
     "elapsed": 987,
     "status": "ok",
     "timestamp": 1621329758820,
     "user": {
      "displayName": "Va Fa Napoli",
      "photoUrl": "",
      "userId": "17637464824648077645"
     },
     "user_tz": -330
    },
    "id": "zLKUKzd3JUip",
    "outputId": "1f5d9b32-6303-47bf-fa34-2cb8f4862873"
   },
   "outputs": [
    {
     "data": {
      "image/png": "[encoded data removed]",
      "text/plain": [
       "<Figure size 432x288 with 1 Axes>"
      ]
     },
     "metadata": {
      "needs_background": "light"
     },
     "output_type": "display_data"
    }
   ],
   "source": [
    "plt.plot(history.history['loss'])\n",
    "plt.plot(history.history['val_loss'])\n",
    "plt.title('model loss')\n",
    "plt.ylabel('loss')\n",
    "plt.xlabel('epoch')\n",
    "plt.legend(['train', 'val'], loc='upper left')\n",
    "plt.show()"
   ]
  },
  {
   "cell_type": "code",
   "execution_count": 22,
   "metadata": {
    "executionInfo": {
     "elapsed": 2015,
     "status": "ok",
     "timestamp": 1621491146258,
     "user": {
      "displayName": "Va Fa Napoli",
      "photoUrl": "",
      "userId": "17637464824648077645"
     },
     "user_tz": -330
    },
    "id": "KlksJw56Jcvd"
   },
   "outputs": [],
   "source": [
    "model.load_weights('./model/model.h5')"
   ]
  },
  {
   "cell_type": "code",
   "execution_count": 23,
   "metadata": {
    "id": "RfgTt55_JnD4",
    "scrolled": true
   },
   "outputs": [
    {
     "name": "stdout",
     "output_type": "stream",
     "text": [
      "63/63 - 1s - loss: 1.8070 - accuracy: 0.7214 - 788ms/epoch - 13ms/step\n"
     ]
    }
   ],
   "source": [
    "x_test = np.array(x_test).reshape(-1, 28, 28, 3)\n",
    "loss, acc = model.evaluate(x_test, y_test, verbose=2)"
   ]
  },
  {
   "cell_type": "code",
   "execution_count": 24,
   "metadata": {
    "colab": {
     "base_uri": "https://localhost:8080/"
    },
    "executionInfo": {
     "elapsed": 983,
     "status": "ok",
     "timestamp": 1621491685787,
     "user": {
      "displayName": "Va Fa Napoli",
      "photoUrl": "",
      "userId": "17637464824648077645"
     },
     "user_tz": -330
    },
    "id": "Vy8ETq0gJyM0",
    "outputId": "6c1d5c37-ba6e-47a1-fd9a-c9d4c7a3c3d9"
   },
   "outputs": [
    {
     "name": "stdout",
     "output_type": "stream",
     "text": [
      "1/1 [==============================] - 0s 240ms/step\n",
      "Melanoma (Cancer)\n",
      "Confidence:  99.8879611492157 %\n"
     ]
    }
   ],
   "source": [
    "import PIL\n",
    "img = PIL.Image.open('./data/Test_Img/c1.jpg')\n",
    "img = img.resize((28, 28))\n",
    "img = np.array(img).reshape(-1, 28, 28, 3)\n",
    "result = model.predict(img)\n",
    "\n",
    "# result\n",
    "result=result.tolist()\n",
    "max_prob=max(result[0])\n",
    "class_ind=result[0].index(max_prob)\n",
    "print(classes[class_ind])\n",
    "print(\"Confidence: \", max(result[0])*100,\"%\")"
   ]
  },
  {
   "cell_type": "code",
   "execution_count": null,
   "metadata": {
    "id": "iQX8WB4ABUtY"
   },
   "outputs": [],
   "source": []
  }
 ],
 "metadata": {
  "colab": {
   "authorship_tag": "ABX9TyPYy4s2G67O+XNXznvwLOoc",
   "collapsed_sections": [],
   "name": "skin_cancer_training.ipynb",
   "provenance": []
  },
  "interpreter": {
   "hash": "4abe8f0d43810da8e0599c92fa77ff1bc3ba49df42db1369ea5b9c66bb667179"
  },
  "kernelspec": {
   "display_name": "Python 3.9.1 64-bit",
   "language": "python",
   "name": "python3"
  },
  "language_info": {
   "codemirror_mode": {
    "name": "ipython",
    "version": 3
   },
   "file_extension": ".py",
   "mimetype": "text/x-python",
   "name": "python",
   "nbconvert_exporter": "python",
   "pygments_lexer": "ipython3",
   "version": "3.9.1"
  }
 },
 "nbformat": 4,
 "nbformat_minor": 1
}
